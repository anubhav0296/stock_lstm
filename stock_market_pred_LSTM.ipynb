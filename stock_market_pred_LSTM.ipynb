{
 "cells": [
  {
   "cell_type": "code",
   "execution_count": 1,
   "source": [
    "import pandas as pd\r\n",
    "import numpy as np\r\n",
    "import matplotlib.pyplot as plt\r\n",
    "from sklearn.preprocessing import MinMaxScaler"
   ],
   "outputs": [],
   "metadata": {}
  },
  {
   "cell_type": "code",
   "execution_count": 2,
   "source": [
    "df = pd.read_csv(\"data.txt\")"
   ],
   "outputs": [],
   "metadata": {}
  },
  {
   "cell_type": "code",
   "execution_count": 3,
   "source": [
    "df.tail()"
   ],
   "outputs": [
    {
     "output_type": "execute_result",
     "data": {
      "text/html": [
       "<div>\n",
       "<style scoped>\n",
       "    .dataframe tbody tr th:only-of-type {\n",
       "        vertical-align: middle;\n",
       "    }\n",
       "\n",
       "    .dataframe tbody tr th {\n",
       "        vertical-align: top;\n",
       "    }\n",
       "\n",
       "    .dataframe thead th {\n",
       "        text-align: right;\n",
       "    }\n",
       "</style>\n",
       "<table border=\"1\" class=\"dataframe\">\n",
       "  <thead>\n",
       "    <tr style=\"text-align: right;\">\n",
       "      <th></th>\n",
       "      <th>Date</th>\n",
       "      <th>Open</th>\n",
       "      <th>High</th>\n",
       "      <th>Low</th>\n",
       "      <th>Last</th>\n",
       "      <th>Close</th>\n",
       "      <th>Total Trade Quantity</th>\n",
       "      <th>Turnover (Lacs)</th>\n",
       "    </tr>\n",
       "  </thead>\n",
       "  <tbody>\n",
       "    <tr>\n",
       "      <th>2030</th>\n",
       "      <td>2010-07-27</td>\n",
       "      <td>117.6</td>\n",
       "      <td>119.50</td>\n",
       "      <td>112.00</td>\n",
       "      <td>118.80</td>\n",
       "      <td>118.65</td>\n",
       "      <td>586100</td>\n",
       "      <td>694.98</td>\n",
       "    </tr>\n",
       "    <tr>\n",
       "      <th>2031</th>\n",
       "      <td>2010-07-26</td>\n",
       "      <td>120.1</td>\n",
       "      <td>121.00</td>\n",
       "      <td>117.10</td>\n",
       "      <td>117.10</td>\n",
       "      <td>117.60</td>\n",
       "      <td>658440</td>\n",
       "      <td>780.01</td>\n",
       "    </tr>\n",
       "    <tr>\n",
       "      <th>2032</th>\n",
       "      <td>2010-07-23</td>\n",
       "      <td>121.8</td>\n",
       "      <td>121.95</td>\n",
       "      <td>120.25</td>\n",
       "      <td>120.35</td>\n",
       "      <td>120.65</td>\n",
       "      <td>281312</td>\n",
       "      <td>340.31</td>\n",
       "    </tr>\n",
       "    <tr>\n",
       "      <th>2033</th>\n",
       "      <td>2010-07-22</td>\n",
       "      <td>120.3</td>\n",
       "      <td>122.00</td>\n",
       "      <td>120.25</td>\n",
       "      <td>120.75</td>\n",
       "      <td>120.90</td>\n",
       "      <td>293312</td>\n",
       "      <td>355.17</td>\n",
       "    </tr>\n",
       "    <tr>\n",
       "      <th>2034</th>\n",
       "      <td>2010-07-21</td>\n",
       "      <td>122.1</td>\n",
       "      <td>123.00</td>\n",
       "      <td>121.05</td>\n",
       "      <td>121.10</td>\n",
       "      <td>121.55</td>\n",
       "      <td>658666</td>\n",
       "      <td>803.56</td>\n",
       "    </tr>\n",
       "  </tbody>\n",
       "</table>\n",
       "</div>"
      ],
      "text/plain": [
       "            Date   Open    High     Low    Last   Close  Total Trade Quantity  \\\n",
       "2030  2010-07-27  117.6  119.50  112.00  118.80  118.65                586100   \n",
       "2031  2010-07-26  120.1  121.00  117.10  117.10  117.60                658440   \n",
       "2032  2010-07-23  121.8  121.95  120.25  120.35  120.65                281312   \n",
       "2033  2010-07-22  120.3  122.00  120.25  120.75  120.90                293312   \n",
       "2034  2010-07-21  122.1  123.00  121.05  121.10  121.55                658666   \n",
       "\n",
       "      Turnover (Lacs)  \n",
       "2030           694.98  \n",
       "2031           780.01  \n",
       "2032           340.31  \n",
       "2033           355.17  \n",
       "2034           803.56  "
      ]
     },
     "metadata": {},
     "execution_count": 3
    }
   ],
   "metadata": {}
  },
  {
   "cell_type": "code",
   "execution_count": 4,
   "source": [
    "df1 = df.reset_index()['Close']"
   ],
   "outputs": [],
   "metadata": {}
  },
  {
   "cell_type": "code",
   "execution_count": 5,
   "source": [
    "df1.head()"
   ],
   "outputs": [
    {
     "output_type": "execute_result",
     "data": {
      "text/plain": [
       "0    233.75\n",
       "1    233.25\n",
       "2    234.25\n",
       "3    236.10\n",
       "4    233.30\n",
       "Name: Close, dtype: float64"
      ]
     },
     "metadata": {},
     "execution_count": 5
    }
   ],
   "metadata": {}
  },
  {
   "cell_type": "code",
   "execution_count": 6,
   "source": [
    "df1.shape"
   ],
   "outputs": [
    {
     "output_type": "execute_result",
     "data": {
      "text/plain": [
       "(2035,)"
      ]
     },
     "metadata": {},
     "execution_count": 6
    }
   ],
   "metadata": {}
  },
  {
   "cell_type": "code",
   "execution_count": 7,
   "source": [
    "import matplotlib.pyplot as plt\r\n",
    "plt.plot(df1)"
   ],
   "outputs": [
    {
     "output_type": "execute_result",
     "data": {
      "text/plain": [
       "[<matplotlib.lines.Line2D at 0x1fbadb9d250>]"
      ]
     },
     "metadata": {},
     "execution_count": 7
    },
    {
     "output_type": "display_data",
     "data": {
      "image/png": "[encoded data removed]",
      "text/plain": [
       "<Figure size 432x288 with 1 Axes>"
      ]
     },
     "metadata": {
      "needs_background": "light"
     }
    }
   ],
   "metadata": {}
  },
  {
   "cell_type": "code",
   "execution_count": 8,
   "source": [
    "# LSTM are sensitive to the scale of the data.So we apply MinMax Scale\r\n",
    "scaler = MinMaxScaler(feature_range=(0,1))\r\n",
    "df1 = scaler.fit_transform(np.array(df1).reshape(-1,1))\r\n"
   ],
   "outputs": [],
   "metadata": {}
  },
  {
   "cell_type": "code",
   "execution_count": 9,
   "source": [
    "df1.shape"
   ],
   "outputs": [
    {
     "output_type": "execute_result",
     "data": {
      "text/plain": [
       "(2035, 1)"
      ]
     },
     "metadata": {},
     "execution_count": 9
    }
   ],
   "metadata": {}
  },
  {
   "cell_type": "code",
   "execution_count": 10,
   "source": [
    "# Splitting dataset into train and test split\r\n",
    "training_size = int(len(df1)*0.65)\r\n",
    "test_size = len(df1) - training_size\r\n",
    "train_data,test_data = df1[0 : training_size,:],df1[training_size : len(df1), : 1]"
   ],
   "outputs": [],
   "metadata": {}
  },
  {
   "cell_type": "code",
   "execution_count": 11,
   "source": [
    "# Convert an array value into a dataset matrix\r\n",
    "def create_dataset(dataset,time_step=1):\r\n",
    "    data_X,data_Y = [],[]\r\n",
    "    for i in range(len(dataset) - time_step-1):\r\n",
    "        a = dataset[i : (i+time_step),0]\r\n",
    "        data_X.append(a)\r\n",
    "        data_Y.append(dataset[i+time_step,0])\r\n",
    "    return np.array(data_X),np.array(data_Y)\r\n"
   ],
   "outputs": [],
   "metadata": {}
  },
  {
   "cell_type": "code",
   "execution_count": 12,
   "source": [
    "# reshape into X = t,t+1,t+2,t+3 and Y = t+4\r\n",
    "time_step = 100\r\n",
    "X_train,y_train = create_dataset(train_data,time_step)\r\n",
    "X_test,y_test = create_dataset(test_data,time_step)"
   ],
   "outputs": [],
   "metadata": {}
  },
  {
   "cell_type": "code",
   "execution_count": 13,
   "source": [
    "print(X_train.shape),print(y_train.shape)"
   ],
   "outputs": [
    {
     "output_type": "stream",
     "name": "stdout",
     "text": [
      "(1221, 100)\n",
      "(1221,)\n"
     ]
    },
    {
     "output_type": "execute_result",
     "data": {
      "text/plain": [
       "(None, None)"
      ]
     },
     "metadata": {},
     "execution_count": 13
    }
   ],
   "metadata": {}
  },
  {
   "cell_type": "code",
   "execution_count": 14,
   "source": [
    "print(X_test.shape),print(y_test.shape)"
   ],
   "outputs": [
    {
     "output_type": "stream",
     "name": "stdout",
     "text": [
      "(612, 100)\n",
      "(612,)\n"
     ]
    },
    {
     "output_type": "execute_result",
     "data": {
      "text/plain": [
       "(None, None)"
      ]
     },
     "metadata": {},
     "execution_count": 14
    }
   ],
   "metadata": {}
  },
  {
   "cell_type": "code",
   "execution_count": 15,
   "source": [
    "# Reshape input to be [samples,time_steps,features] which is required for LSTM\r\n",
    "X_train = X_train.reshape(X_train.shape[0],X_train.shape[1],1)\r\n",
    "X_test = X_test.reshape(X_test.shape[0],X_test.shape[1],1)"
   ],
   "outputs": [],
   "metadata": {}
  },
  {
   "cell_type": "code",
   "execution_count": 16,
   "source": [
    "# Create the LSTM model\r\n",
    "# import tensorflow\r\n",
    "from tensorflow.keras.models import Sequential\r\n",
    "from tensorflow.keras.layers import Dense\r\n",
    "from tensorflow.keras.layers import LSTM"
   ],
   "outputs": [],
   "metadata": {}
  },
  {
   "cell_type": "code",
   "execution_count": 17,
   "source": [
    "model=Sequential()\r\n",
    "model.add(LSTM(50,return_sequences=True,input_shape=(100,1)))\r\n",
    "model.add(LSTM(50,return_sequences=True))\r\n",
    "model.add(LSTM(50))\r\n",
    "model.add(Dense(1))\r\n",
    "model.compile(loss='mean_squared_error',optimizer='adam')"
   ],
   "outputs": [],
   "metadata": {}
  },
  {
   "cell_type": "code",
   "execution_count": 18,
   "source": [
    "model.summary()"
   ],
   "outputs": [
    {
     "output_type": "stream",
     "name": "stdout",
     "text": [
      "Model: \"sequential\"\n",
      "_________________________________________________________________\n",
      "Layer (type)                 Output Shape              Param #   \n",
      "=================================================================\n",
      "lstm (LSTM)                  (None, 100, 50)           10400     \n",
      "_________________________________________________________________\n",
      "lstm_1 (LSTM)                (None, 100, 50)           20200     \n",
      "_________________________________________________________________\n",
      "lstm_2 (LSTM)                (None, 50)                20200     \n",
      "_________________________________________________________________\n",
      "dense (Dense)                (None, 1)                 51        \n",
      "=================================================================\n",
      "Total params: 50,851\n",
      "Trainable params: 50,851\n",
      "Non-trainable params: 0\n",
      "_________________________________________________________________\n"
     ]
    }
   ],
   "metadata": {}
  },
  {
   "cell_type": "code",
   "execution_count": 19,
   "source": [
    "model.fit(X_train,y_train,validation_data=(X_test,y_test),epochs=100,batch_size=64,verbose=1)"
   ],
   "outputs": [
    {
     "output_type": "stream",
     "name": "stdout",
     "text": [
      "Epoch 1/100\n",
      "20/20 [==============================] - 14s 258ms/step - loss: 0.0274 - val_loss: 0.0074\n",
      "Epoch 2/100\n",
      "20/20 [==============================] - 4s 184ms/step - loss: 0.0033 - val_loss: 9.1591e-04\n",
      "Epoch 3/100\n",
      "20/20 [==============================] - 4s 187ms/step - loss: 0.0024 - val_loss: 0.0012\n",
      "Epoch 4/100\n",
      "20/20 [==============================] - 4s 186ms/step - loss: 0.0019 - val_loss: 0.0015\n",
      "Epoch 5/100\n",
      "20/20 [==============================] - 4s 188ms/step - loss: 0.0019 - val_loss: 0.0011\n",
      "Epoch 6/100\n",
      "20/20 [==============================] - 4s 188ms/step - loss: 0.0016 - val_loss: 0.0014\n",
      "Epoch 7/100\n",
      "20/20 [==============================] - 4s 188ms/step - loss: 0.0017 - val_loss: 0.0011\n",
      "Epoch 8/100\n",
      "20/20 [==============================] - 4s 189ms/step - loss: 0.0015 - val_loss: 0.0014\n",
      "Epoch 9/100\n",
      "20/20 [==============================] - 4s 191ms/step - loss: 0.0016 - val_loss: 0.0017\n",
      "Epoch 10/100\n",
      "20/20 [==============================] - 4s 191ms/step - loss: 0.0015 - val_loss: 9.9426e-04\n",
      "Epoch 11/100\n",
      "20/20 [==============================] - 4s 191ms/step - loss: 0.0013 - val_loss: 0.0012\n",
      "Epoch 12/100\n",
      "20/20 [==============================] - 4s 194ms/step - loss: 0.0012 - val_loss: 0.0010\n",
      "Epoch 13/100\n",
      "20/20 [==============================] - 4s 195ms/step - loss: 0.0011 - val_loss: 9.6773e-04\n",
      "Epoch 14/100\n",
      "20/20 [==============================] - 4s 191ms/step - loss: 0.0013 - val_loss: 0.0012\n",
      "Epoch 15/100\n",
      "20/20 [==============================] - 4s 193ms/step - loss: 0.0010 - val_loss: 0.0011\n",
      "Epoch 16/100\n",
      "20/20 [==============================] - 4s 190ms/step - loss: 0.0010 - val_loss: 7.3726e-04\n",
      "Epoch 17/100\n",
      "20/20 [==============================] - 4s 191ms/step - loss: 9.5962e-04 - val_loss: 0.0011\n",
      "Epoch 18/100\n",
      "20/20 [==============================] - 4s 191ms/step - loss: 0.0010 - val_loss: 7.6353e-04\n",
      "Epoch 19/100\n",
      "20/20 [==============================] - 4s 191ms/step - loss: 8.7233e-04 - val_loss: 8.2698e-04\n",
      "Epoch 20/100\n",
      "20/20 [==============================] - 4s 191ms/step - loss: 8.3090e-04 - val_loss: 9.4644e-04\n",
      "Epoch 21/100\n",
      "20/20 [==============================] - 4s 190ms/step - loss: 0.0010 - val_loss: 0.0011\n",
      "Epoch 22/100\n",
      "20/20 [==============================] - 4s 194ms/step - loss: 8.9282e-04 - val_loss: 6.7807e-04\n",
      "Epoch 23/100\n",
      "20/20 [==============================] - 4s 190ms/step - loss: 7.6185e-04 - val_loss: 6.9837e-04\n",
      "Epoch 24/100\n",
      "20/20 [==============================] - 4s 191ms/step - loss: 7.9208e-04 - val_loss: 7.1330e-04\n",
      "Epoch 25/100\n",
      "20/20 [==============================] - 4s 190ms/step - loss: 8.2677e-04 - val_loss: 7.8740e-04\n",
      "Epoch 26/100\n",
      "20/20 [==============================] - 4s 190ms/step - loss: 7.7726e-04 - val_loss: 6.9981e-04\n",
      "Epoch 27/100\n",
      "20/20 [==============================] - 4s 191ms/step - loss: 7.4206e-04 - val_loss: 6.4926e-04\n",
      "Epoch 28/100\n",
      "20/20 [==============================] - 4s 191ms/step - loss: 7.0647e-04 - val_loss: 7.0589e-04\n",
      "Epoch 29/100\n",
      "20/20 [==============================] - 4s 190ms/step - loss: 7.7248e-04 - val_loss: 9.1534e-04\n",
      "Epoch 30/100\n",
      "20/20 [==============================] - 4s 192ms/step - loss: 6.6044e-04 - val_loss: 6.8676e-04\n",
      "Epoch 31/100\n",
      "20/20 [==============================] - 4s 191ms/step - loss: 6.3941e-04 - val_loss: 6.2529e-04\n",
      "Epoch 32/100\n",
      "20/20 [==============================] - 4s 190ms/step - loss: 6.9904e-04 - val_loss: 0.0011\n",
      "Epoch 33/100\n",
      "20/20 [==============================] - 4s 190ms/step - loss: 7.1606e-04 - val_loss: 5.3441e-04\n",
      "Epoch 34/100\n",
      "20/20 [==============================] - 4s 191ms/step - loss: 6.3452e-04 - val_loss: 6.5015e-04\n",
      "Epoch 35/100\n",
      "20/20 [==============================] - 4s 191ms/step - loss: 6.1408e-04 - val_loss: 5.9247e-04\n",
      "Epoch 36/100\n",
      "20/20 [==============================] - 4s 191ms/step - loss: 6.8504e-04 - val_loss: 8.6114e-04\n",
      "Epoch 37/100\n",
      "20/20 [==============================] - 4s 194ms/step - loss: 6.8466e-04 - val_loss: 6.0331e-04\n",
      "Epoch 38/100\n",
      "20/20 [==============================] - 4s 191ms/step - loss: 6.2599e-04 - val_loss: 6.7702e-04\n",
      "Epoch 39/100\n",
      "20/20 [==============================] - 4s 192ms/step - loss: 5.9114e-04 - val_loss: 6.8082e-04\n",
      "Epoch 40/100\n",
      "20/20 [==============================] - 4s 196ms/step - loss: 5.5275e-04 - val_loss: 7.8513e-04\n",
      "Epoch 41/100\n",
      "20/20 [==============================] - 4s 219ms/step - loss: 5.4321e-04 - val_loss: 5.5076e-04\n",
      "Epoch 42/100\n",
      "20/20 [==============================] - 3s 173ms/step - loss: 6.1226e-04 - val_loss: 8.5531e-04\n",
      "Epoch 43/100\n",
      "20/20 [==============================] - 3s 172ms/step - loss: 6.0104e-04 - val_loss: 5.2596e-04\n",
      "Epoch 44/100\n",
      "20/20 [==============================] - 4s 178ms/step - loss: 5.5377e-04 - val_loss: 6.4206e-04\n",
      "Epoch 45/100\n",
      "20/20 [==============================] - 3s 172ms/step - loss: 5.3092e-04 - val_loss: 4.5925e-04\n",
      "Epoch 46/100\n",
      "20/20 [==============================] - 3s 172ms/step - loss: 5.1644e-04 - val_loss: 5.4788e-04\n",
      "Epoch 47/100\n",
      "20/20 [==============================] - 3s 171ms/step - loss: 5.1305e-04 - val_loss: 4.8579e-04\n",
      "Epoch 48/100\n",
      "20/20 [==============================] - 3s 173ms/step - loss: 5.5706e-04 - val_loss: 4.5332e-04\n",
      "Epoch 49/100\n",
      "20/20 [==============================] - 3s 172ms/step - loss: 5.0029e-04 - val_loss: 5.5565e-04\n",
      "Epoch 50/100\n",
      "20/20 [==============================] - 3s 172ms/step - loss: 4.7540e-04 - val_loss: 4.7463e-04\n",
      "Epoch 51/100\n",
      "20/20 [==============================] - 3s 173ms/step - loss: 4.5594e-04 - val_loss: 5.1749e-04\n",
      "Epoch 52/100\n",
      "20/20 [==============================] - 3s 175ms/step - loss: 5.1428e-04 - val_loss: 5.0997e-04\n",
      "Epoch 53/100\n",
      "20/20 [==============================] - 3s 173ms/step - loss: 4.8420e-04 - val_loss: 5.9403e-04\n",
      "Epoch 54/100\n",
      "20/20 [==============================] - 3s 172ms/step - loss: 5.5017e-04 - val_loss: 6.4647e-04\n",
      "Epoch 55/100\n",
      "20/20 [==============================] - 3s 171ms/step - loss: 4.5151e-04 - val_loss: 4.5126e-04\n",
      "Epoch 56/100\n",
      "20/20 [==============================] - 4s 176ms/step - loss: 4.2902e-04 - val_loss: 4.1563e-04\n",
      "Epoch 57/100\n",
      "20/20 [==============================] - 3s 172ms/step - loss: 4.2525e-04 - val_loss: 3.2945e-04\n",
      "Epoch 58/100\n",
      "20/20 [==============================] - 3s 173ms/step - loss: 3.9909e-04 - val_loss: 3.8347e-04\n",
      "Epoch 59/100\n",
      "20/20 [==============================] - 3s 171ms/step - loss: 3.9800e-04 - val_loss: 3.3674e-04\n",
      "Epoch 60/100\n",
      "20/20 [==============================] - 3s 175ms/step - loss: 4.0180e-04 - val_loss: 3.3888e-04\n",
      "Epoch 61/100\n",
      "20/20 [==============================] - 3s 172ms/step - loss: 3.9423e-04 - val_loss: 3.8497e-04\n",
      "Epoch 62/100\n",
      "20/20 [==============================] - 3s 173ms/step - loss: 3.4430e-04 - val_loss: 3.1658e-04\n",
      "Epoch 63/100\n",
      "20/20 [==============================] - 3s 174ms/step - loss: 3.5643e-04 - val_loss: 4.1844e-04\n",
      "Epoch 64/100\n",
      "20/20 [==============================] - 3s 171ms/step - loss: 3.4530e-04 - val_loss: 2.9861e-04\n",
      "Epoch 65/100\n",
      "20/20 [==============================] - 3s 172ms/step - loss: 3.6338e-04 - val_loss: 3.4323e-04\n",
      "Epoch 66/100\n",
      "20/20 [==============================] - 3s 172ms/step - loss: 4.0716e-04 - val_loss: 3.5934e-04\n",
      "Epoch 67/100\n",
      "20/20 [==============================] - 3s 174ms/step - loss: 3.1723e-04 - val_loss: 3.2140e-04\n",
      "Epoch 68/100\n",
      "20/20 [==============================] - 3s 172ms/step - loss: 3.1361e-04 - val_loss: 2.5420e-04\n",
      "Epoch 69/100\n",
      "20/20 [==============================] - 3s 173ms/step - loss: 3.2096e-04 - val_loss: 2.5880e-04\n",
      "Epoch 70/100\n",
      "20/20 [==============================] - 3s 171ms/step - loss: 3.0103e-04 - val_loss: 3.4001e-04\n",
      "Epoch 71/100\n",
      "20/20 [==============================] - 3s 172ms/step - loss: 2.8863e-04 - val_loss: 3.3344e-04\n",
      "Epoch 72/100\n",
      "20/20 [==============================] - 3s 172ms/step - loss: 3.0909e-04 - val_loss: 2.8158e-04\n",
      "Epoch 73/100\n",
      "20/20 [==============================] - 3s 171ms/step - loss: 3.1854e-04 - val_loss: 2.7844e-04\n",
      "Epoch 74/100\n",
      "20/20 [==============================] - 3s 172ms/step - loss: 2.6968e-04 - val_loss: 3.8128e-04\n",
      "Epoch 75/100\n",
      "20/20 [==============================] - 3s 174ms/step - loss: 3.1519e-04 - val_loss: 2.4922e-04\n",
      "Epoch 76/100\n",
      "20/20 [==============================] - 3s 172ms/step - loss: 3.7140e-04 - val_loss: 2.5157e-04\n",
      "Epoch 77/100\n",
      "20/20 [==============================] - 3s 173ms/step - loss: 4.8866e-04 - val_loss: 2.8445e-04\n",
      "Epoch 78/100\n",
      "20/20 [==============================] - 3s 172ms/step - loss: 3.4001e-04 - val_loss: 3.1985e-04\n",
      "Epoch 79/100\n",
      "20/20 [==============================] - 3s 172ms/step - loss: 3.4872e-04 - val_loss: 2.4658e-04\n",
      "Epoch 80/100\n",
      "20/20 [==============================] - 3s 172ms/step - loss: 2.9105e-04 - val_loss: 2.1493e-04\n",
      "Epoch 81/100\n",
      "20/20 [==============================] - 3s 173ms/step - loss: 2.7530e-04 - val_loss: 4.6779e-04\n",
      "Epoch 82/100\n",
      "20/20 [==============================] - 3s 172ms/step - loss: 4.2593e-04 - val_loss: 2.5168e-04\n",
      "Epoch 83/100\n",
      "20/20 [==============================] - 3s 173ms/step - loss: 2.6422e-04 - val_loss: 2.1947e-04\n",
      "Epoch 84/100\n",
      "20/20 [==============================] - 3s 172ms/step - loss: 2.5645e-04 - val_loss: 3.0551e-04\n",
      "Epoch 85/100\n",
      "20/20 [==============================] - 3s 172ms/step - loss: 2.9463e-04 - val_loss: 2.2718e-04\n",
      "Epoch 86/100\n",
      "20/20 [==============================] - 3s 172ms/step - loss: 2.2836e-04 - val_loss: 2.7910e-04\n",
      "Epoch 87/100\n",
      "20/20 [==============================] - 3s 171ms/step - loss: 2.4333e-04 - val_loss: 2.0835e-04\n",
      "Epoch 88/100\n",
      "20/20 [==============================] - 3s 171ms/step - loss: 2.9399e-04 - val_loss: 1.9608e-04\n",
      "Epoch 89/100\n",
      "20/20 [==============================] - 3s 172ms/step - loss: 2.4938e-04 - val_loss: 2.0536e-04\n",
      "Epoch 90/100\n",
      "20/20 [==============================] - 3s 174ms/step - loss: 2.8671e-04 - val_loss: 2.7483e-04\n",
      "Epoch 91/100\n",
      "20/20 [==============================] - 3s 172ms/step - loss: 2.8571e-04 - val_loss: 2.1955e-04\n",
      "Epoch 92/100\n",
      "20/20 [==============================] - 3s 172ms/step - loss: 2.3382e-04 - val_loss: 1.9290e-04\n",
      "Epoch 93/100\n",
      "20/20 [==============================] - 3s 172ms/step - loss: 2.2984e-04 - val_loss: 2.2417e-04\n",
      "Epoch 94/100\n",
      "20/20 [==============================] - 3s 173ms/step - loss: 2.3157e-04 - val_loss: 2.0633e-04\n",
      "Epoch 95/100\n",
      "20/20 [==============================] - 3s 173ms/step - loss: 2.1837e-04 - val_loss: 1.8853e-04\n",
      "Epoch 96/100\n",
      "20/20 [==============================] - 3s 171ms/step - loss: 2.5322e-04 - val_loss: 2.0012e-04\n",
      "Epoch 97/100\n",
      "20/20 [==============================] - 3s 172ms/step - loss: 2.8159e-04 - val_loss: 2.2114e-04\n",
      "Epoch 98/100\n",
      "20/20 [==============================] - 3s 171ms/step - loss: 3.5444e-04 - val_loss: 1.7376e-04\n",
      "Epoch 99/100\n",
      "20/20 [==============================] - 3s 174ms/step - loss: 2.3070e-04 - val_loss: 1.8080e-04\n",
      "Epoch 100/100\n",
      "20/20 [==============================] - 3s 172ms/step - loss: 2.1369e-04 - val_loss: 1.9586e-04\n"
     ]
    },
    {
     "output_type": "execute_result",
     "data": {
      "text/plain": [
       "<keras.callbacks.History at 0x1fbb5bd7a60>"
      ]
     },
     "metadata": {},
     "execution_count": 19
    }
   ],
   "metadata": {}
  },
  {
   "cell_type": "code",
   "execution_count": 20,
   "source": [
    "import tensorflow as tf"
   ],
   "outputs": [],
   "metadata": {}
  },
  {
   "cell_type": "code",
   "execution_count": 21,
   "source": [
    "tf.__version__"
   ],
   "outputs": [
    {
     "output_type": "execute_result",
     "data": {
      "text/plain": [
       "'2.6.0'"
      ]
     },
     "metadata": {},
     "execution_count": 21
    }
   ],
   "metadata": {}
  },
  {
   "cell_type": "code",
   "execution_count": 22,
   "source": [
    "# Let's do the predictions and check performance metrics\r\n",
    "train_predict = model.predict(X_train)\r\n",
    "test_predict = model.predict(X_test)"
   ],
   "outputs": [],
   "metadata": {}
  },
  {
   "cell_type": "code",
   "execution_count": 23,
   "source": [
    "# Transform back to original form\r\n",
    "train_predict=scaler.inverse_transform(train_predict)\r\n",
    "test_predict=scaler.inverse_transform(test_predict)"
   ],
   "outputs": [],
   "metadata": {}
  },
  {
   "cell_type": "code",
   "execution_count": 24,
   "source": [
    "# Calculate RMSE performance metrics\r\n",
    "import math\r\n",
    "from sklearn.metrics import mean_squared_error\r\n",
    "math.sqrt(mean_squared_error(y_train,train_predict))"
   ],
   "outputs": [
    {
     "output_type": "execute_result",
     "data": {
      "text/plain": [
       "162.32631915060284"
      ]
     },
     "metadata": {},
     "execution_count": 24
    }
   ],
   "metadata": {}
  },
  {
   "cell_type": "code",
   "execution_count": 25,
   "source": [
    "# Test data RMSE\r\n",
    "math.sqrt(mean_squared_error(y_test,test_predict))"
   ],
   "outputs": [
    {
     "output_type": "execute_result",
     "data": {
      "text/plain": [
       "114.48311410791126"
      ]
     },
     "metadata": {},
     "execution_count": 25
    }
   ],
   "metadata": {}
  },
  {
   "cell_type": "code",
   "execution_count": 26,
   "source": [
    "### Plotting \r\n",
    "# shift train predictions for plotting\r\n",
    "look_back=100\r\n",
    "trainPredictPlot = np.empty_like(df1)\r\n",
    "trainPredictPlot[:, :] = np.nan\r\n",
    "trainPredictPlot[look_back:len(train_predict)+look_back, :] = train_predict\r\n",
    "# shift test predictions for plotting\r\n",
    "testPredictPlot = np.empty_like(df1)\r\n",
    "testPredictPlot[:, :] = np.nan\r\n",
    "testPredictPlot[len(train_predict)+(look_back*2)+1:len(df1)-1, :] = test_predict\r\n",
    "# plot baseline and predictions\r\n",
    "plt.plot(scaler.inverse_transform(df1))\r\n",
    "plt.plot(trainPredictPlot)\r\n",
    "plt.plot(testPredictPlot)\r\n",
    "plt.show()\r\n"
   ],
   "outputs": [
    {
     "output_type": "display_data",
     "data": {
      "image/png": "[encoded data removed]",
      "text/plain": [
       "<Figure size 432x288 with 1 Axes>"
      ]
     },
     "metadata": {
      "needs_background": "light"
     }
    }
   ],
   "metadata": {}
  },
  {
   "cell_type": "code",
   "execution_count": 27,
   "source": [
    "# Predict the future 30 days and plot the output\r\n",
    "713- 100"
   ],
   "outputs": [
    {
     "output_type": "execute_result",
     "data": {
      "text/plain": [
       "613"
      ]
     },
     "metadata": {},
     "execution_count": 27
    }
   ],
   "metadata": {}
  },
  {
   "cell_type": "code",
   "execution_count": 28,
   "source": [
    "len(test_data)"
   ],
   "outputs": [
    {
     "output_type": "execute_result",
     "data": {
      "text/plain": [
       "713"
      ]
     },
     "metadata": {},
     "execution_count": 28
    }
   ],
   "metadata": {}
  },
  {
   "cell_type": "code",
   "execution_count": 33,
   "source": [
    "x_input = test_data[613: ].reshape(1,-1)\r\n",
    "x_input.shape"
   ],
   "outputs": [
    {
     "output_type": "execute_result",
     "data": {
      "text/plain": [
       "(1, 100)"
      ]
     },
     "metadata": {},
     "execution_count": 33
    }
   ],
   "metadata": {}
  },
  {
   "cell_type": "code",
   "execution_count": 34,
   "source": [
    "temp_input = list(x_input)\r\n",
    "temp_input = temp_input[0].tolist()"
   ],
   "outputs": [],
   "metadata": {}
  },
  {
   "cell_type": "code",
   "execution_count": 35,
   "source": [
    "temp_input"
   ],
   "outputs": [
    {
     "output_type": "execute_result",
     "data": {
      "text/plain": [
       "[0.12479575163398693,\n",
       " 0.1384803921568627,\n",
       " 0.14011437908496732,\n",
       " 0.1388888888888889,\n",
       " 0.13541666666666663,\n",
       " 0.14011437908496732,\n",
       " 0.13807189542483655,\n",
       " 0.130718954248366,\n",
       " 0.130718954248366,\n",
       " 0.12867647058823528,\n",
       " 0.11846405228758167,\n",
       " 0.14644607843137253,\n",
       " 0.1480800653594771,\n",
       " 0.159109477124183,\n",
       " 0.15992647058823523,\n",
       " 0.1578839869281045,\n",
       " 0.16441993464052285,\n",
       " 0.178921568627451,\n",
       " 0.17933006535947704,\n",
       " 0.19260620915032678,\n",
       " 0.2081290849673203,\n",
       " 0.18974673202614378,\n",
       " 0.18055555555555558,\n",
       " 0.1823937908496731,\n",
       " 0.17708333333333326,\n",
       " 0.17810457516339862,\n",
       " 0.18055555555555558,\n",
       " 0.17810457516339862,\n",
       " 0.17851307189542487,\n",
       " 0.196078431372549,\n",
       " 0.18913398692810457,\n",
       " 0.1895424836601307,\n",
       " 0.19403594771241828,\n",
       " 0.19444444444444442,\n",
       " 0.20200163398692816,\n",
       " 0.19771241830065356,\n",
       " 0.19934640522875813,\n",
       " 0.19873366013071891,\n",
       " 0.19975490196078427,\n",
       " 0.21282679738562094,\n",
       " 0.21568627450980393,\n",
       " 0.2044526143790849,\n",
       " 0.21772875816993464,\n",
       " 0.21098856209150318,\n",
       " 0.21425653594771243,\n",
       " 0.1975081699346406,\n",
       " 0.1881127450980392,\n",
       " 0.17851307189542487,\n",
       " 0.17381535947712412,\n",
       " 0.16033496732026142,\n",
       " 0.16564542483660127,\n",
       " 0.1711601307189542,\n",
       " 0.17422385620915026,\n",
       " 0.1803513071895424,\n",
       " 0.1740196078431372,\n",
       " 0.16278594771241828,\n",
       " 0.1697303921568627,\n",
       " 0.17810457516339862,\n",
       " 0.1703431372549019,\n",
       " 0.16830065359477125,\n",
       " 0.17279411764705876,\n",
       " 0.1754493464052288,\n",
       " 0.18382352941176472,\n",
       " 0.19138071895424835,\n",
       " 0.18913398692810457,\n",
       " 0.1909722222222222,\n",
       " 0.17238562091503273,\n",
       " 0.16830065359477125,\n",
       " 0.16932189542483655,\n",
       " 0.1717728758169934,\n",
       " 0.16156045751633985,\n",
       " 0.14971405228758167,\n",
       " 0.15032679738562088,\n",
       " 0.1519607843137255,\n",
       " 0.1472630718954248,\n",
       " 0.14501633986928103,\n",
       " 0.14603758169934639,\n",
       " 0.12479575163398693,\n",
       " 0.13112745098039214,\n",
       " 0.11397058823529405,\n",
       " 0.11907679738562088,\n",
       " 0.12377450980392157,\n",
       " 0.13562091503267976,\n",
       " 0.12908496732026142,\n",
       " 0.1345996732026144,\n",
       " 0.12806372549019607,\n",
       " 0.13031045751633985,\n",
       " 0.12724673202614373,\n",
       " 0.13521241830065356,\n",
       " 0.1452205882352941,\n",
       " 0.15257352941176466,\n",
       " 0.14848856209150324,\n",
       " 0.14338235294117646,\n",
       " 0.14562908496732024,\n",
       " 0.1523692810457516,\n",
       " 0.15400326797385622,\n",
       " 0.14971405228758167,\n",
       " 0.16217320261437906,\n",
       " 0.16319444444444448,\n",
       " 0.16584967320261434]"
      ]
     },
     "metadata": {},
     "execution_count": 35
    }
   ],
   "metadata": {}
  },
  {
   "cell_type": "code",
   "execution_count": 36,
   "source": [
    "# demonstrate prediction for next 10 days\r\n",
    "from numpy import array\r\n",
    "\r\n",
    "lst_output=[]\r\n",
    "n_steps=100\r\n",
    "i=0\r\n",
    "while(i<30):\r\n",
    "    \r\n",
    "    if(len(temp_input)>100):\r\n",
    "        #print(temp_input)\r\n",
    "        x_input=np.array(temp_input[1:])\r\n",
    "        print(\"{} day input {}\".format(i,x_input))\r\n",
    "        x_input=x_input.reshape(1,-1)\r\n",
    "        x_input = x_input.reshape((1, n_steps, 1))\r\n",
    "        #print(x_input)\r\n",
    "        yhat = model.predict(x_input, verbose=0)\r\n",
    "        print(\"{} day output {}\".format(i,yhat))\r\n",
    "        temp_input.extend(yhat[0].tolist())\r\n",
    "        temp_input=temp_input[1:]\r\n",
    "        #print(temp_input)\r\n",
    "        lst_output.extend(yhat.tolist())\r\n",
    "        i=i+1\r\n",
    "    else:\r\n",
    "        x_input = x_input.reshape((1, n_steps,1))\r\n",
    "        yhat = model.predict(x_input, verbose=0)\r\n",
    "        print(yhat[0])\r\n",
    "        temp_input.extend(yhat[0].tolist())\r\n",
    "        print(len(temp_input))\r\n",
    "        lst_output.extend(yhat.tolist())\r\n",
    "        i=i+1\r\n",
    "    \r\n",
    "\r\n",
    "print(lst_output)"
   ],
   "outputs": [
    {
     "output_type": "stream",
     "name": "stdout",
     "text": [
      "[0.16033639]\n",
      "101\n",
      "1 day input [0.13848039 0.14011438 0.13888889 0.13541667 0.14011438 0.1380719\n",
      " 0.13071895 0.13071895 0.12867647 0.11846405 0.14644608 0.14808007\n",
      " 0.15910948 0.15992647 0.15788399 0.16441993 0.17892157 0.17933007\n",
      " 0.19260621 0.20812908 0.18974673 0.18055556 0.18239379 0.17708333\n",
      " 0.17810458 0.18055556 0.17810458 0.17851307 0.19607843 0.18913399\n",
      " 0.18954248 0.19403595 0.19444444 0.20200163 0.19771242 0.19934641\n",
      " 0.19873366 0.1997549  0.2128268  0.21568627 0.20445261 0.21772876\n",
      " 0.21098856 0.21425654 0.19750817 0.18811275 0.17851307 0.17381536\n",
      " 0.16033497 0.16564542 0.17116013 0.17422386 0.18035131 0.17401961\n",
      " 0.16278595 0.16973039 0.17810458 0.17034314 0.16830065 0.17279412\n",
      " 0.17544935 0.18382353 0.19138072 0.18913399 0.19097222 0.17238562\n",
      " 0.16830065 0.1693219  0.17177288 0.16156046 0.14971405 0.1503268\n",
      " 0.15196078 0.14726307 0.14501634 0.14603758 0.12479575 0.13112745\n",
      " 0.11397059 0.1190768  0.12377451 0.13562092 0.12908497 0.13459967\n",
      " 0.12806373 0.13031046 0.12724673 0.13521242 0.14522059 0.15257353\n",
      " 0.14848856 0.14338235 0.14562908 0.15236928 0.15400327 0.14971405\n",
      " 0.1621732  0.16319444 0.16584967 0.16033639]\n",
      "1 day output [[0.16033128]]\n",
      "2 day input [0.14011438 0.13888889 0.13541667 0.14011438 0.1380719  0.13071895\n",
      " 0.13071895 0.12867647 0.11846405 0.14644608 0.14808007 0.15910948\n",
      " 0.15992647 0.15788399 0.16441993 0.17892157 0.17933007 0.19260621\n",
      " 0.20812908 0.18974673 0.18055556 0.18239379 0.17708333 0.17810458\n",
      " 0.18055556 0.17810458 0.17851307 0.19607843 0.18913399 0.18954248\n",
      " 0.19403595 0.19444444 0.20200163 0.19771242 0.19934641 0.19873366\n",
      " 0.1997549  0.2128268  0.21568627 0.20445261 0.21772876 0.21098856\n",
      " 0.21425654 0.19750817 0.18811275 0.17851307 0.17381536 0.16033497\n",
      " 0.16564542 0.17116013 0.17422386 0.18035131 0.17401961 0.16278595\n",
      " 0.16973039 0.17810458 0.17034314 0.16830065 0.17279412 0.17544935\n",
      " 0.18382353 0.19138072 0.18913399 0.19097222 0.17238562 0.16830065\n",
      " 0.1693219  0.17177288 0.16156046 0.14971405 0.1503268  0.15196078\n",
      " 0.14726307 0.14501634 0.14603758 0.12479575 0.13112745 0.11397059\n",
      " 0.1190768  0.12377451 0.13562092 0.12908497 0.13459967 0.12806373\n",
      " 0.13031046 0.12724673 0.13521242 0.14522059 0.15257353 0.14848856\n",
      " 0.14338235 0.14562908 0.15236928 0.15400327 0.14971405 0.1621732\n",
      " 0.16319444 0.16584967 0.16033639 0.16033128]\n",
      "2 day output [[0.15864289]]\n",
      "3 day input [0.13888889 0.13541667 0.14011438 0.1380719  0.13071895 0.13071895\n",
      " 0.12867647 0.11846405 0.14644608 0.14808007 0.15910948 0.15992647\n",
      " 0.15788399 0.16441993 0.17892157 0.17933007 0.19260621 0.20812908\n",
      " 0.18974673 0.18055556 0.18239379 0.17708333 0.17810458 0.18055556\n",
      " 0.17810458 0.17851307 0.19607843 0.18913399 0.18954248 0.19403595\n",
      " 0.19444444 0.20200163 0.19771242 0.19934641 0.19873366 0.1997549\n",
      " 0.2128268  0.21568627 0.20445261 0.21772876 0.21098856 0.21425654\n",
      " 0.19750817 0.18811275 0.17851307 0.17381536 0.16033497 0.16564542\n",
      " 0.17116013 0.17422386 0.18035131 0.17401961 0.16278595 0.16973039\n",
      " 0.17810458 0.17034314 0.16830065 0.17279412 0.17544935 0.18382353\n",
      " 0.19138072 0.18913399 0.19097222 0.17238562 0.16830065 0.1693219\n",
      " 0.17177288 0.16156046 0.14971405 0.1503268  0.15196078 0.14726307\n",
      " 0.14501634 0.14603758 0.12479575 0.13112745 0.11397059 0.1190768\n",
      " 0.12377451 0.13562092 0.12908497 0.13459967 0.12806373 0.13031046\n",
      " 0.12724673 0.13521242 0.14522059 0.15257353 0.14848856 0.14338235\n",
      " 0.14562908 0.15236928 0.15400327 0.14971405 0.1621732  0.16319444\n",
      " 0.16584967 0.16033639 0.16033128 0.15864289]\n",
      "3 day output [[0.1563844]]\n",
      "4 day input [0.13541667 0.14011438 0.1380719  0.13071895 0.13071895 0.12867647\n",
      " 0.11846405 0.14644608 0.14808007 0.15910948 0.15992647 0.15788399\n",
      " 0.16441993 0.17892157 0.17933007 0.19260621 0.20812908 0.18974673\n",
      " 0.18055556 0.18239379 0.17708333 0.17810458 0.18055556 0.17810458\n",
      " 0.17851307 0.19607843 0.18913399 0.18954248 0.19403595 0.19444444\n",
      " 0.20200163 0.19771242 0.19934641 0.19873366 0.1997549  0.2128268\n",
      " 0.21568627 0.20445261 0.21772876 0.21098856 0.21425654 0.19750817\n",
      " 0.18811275 0.17851307 0.17381536 0.16033497 0.16564542 0.17116013\n",
      " 0.17422386 0.18035131 0.17401961 0.16278595 0.16973039 0.17810458\n",
      " 0.17034314 0.16830065 0.17279412 0.17544935 0.18382353 0.19138072\n",
      " 0.18913399 0.19097222 0.17238562 0.16830065 0.1693219  0.17177288\n",
      " 0.16156046 0.14971405 0.1503268  0.15196078 0.14726307 0.14501634\n",
      " 0.14603758 0.12479575 0.13112745 0.11397059 0.1190768  0.12377451\n",
      " 0.13562092 0.12908497 0.13459967 0.12806373 0.13031046 0.12724673\n",
      " 0.13521242 0.14522059 0.15257353 0.14848856 0.14338235 0.14562908\n",
      " 0.15236928 0.15400327 0.14971405 0.1621732  0.16319444 0.16584967\n",
      " 0.16033639 0.16033128 0.15864289 0.15638439]\n",
      "4 day output [[0.15395716]]\n",
      "5 day input [0.14011438 0.1380719  0.13071895 0.13071895 0.12867647 0.11846405\n",
      " 0.14644608 0.14808007 0.15910948 0.15992647 0.15788399 0.16441993\n",
      " 0.17892157 0.17933007 0.19260621 0.20812908 0.18974673 0.18055556\n",
      " 0.18239379 0.17708333 0.17810458 0.18055556 0.17810458 0.17851307\n",
      " 0.19607843 0.18913399 0.18954248 0.19403595 0.19444444 0.20200163\n",
      " 0.19771242 0.19934641 0.19873366 0.1997549  0.2128268  0.21568627\n",
      " 0.20445261 0.21772876 0.21098856 0.21425654 0.19750817 0.18811275\n",
      " 0.17851307 0.17381536 0.16033497 0.16564542 0.17116013 0.17422386\n",
      " 0.18035131 0.17401961 0.16278595 0.16973039 0.17810458 0.17034314\n",
      " 0.16830065 0.17279412 0.17544935 0.18382353 0.19138072 0.18913399\n",
      " 0.19097222 0.17238562 0.16830065 0.1693219  0.17177288 0.16156046\n",
      " 0.14971405 0.1503268  0.15196078 0.14726307 0.14501634 0.14603758\n",
      " 0.12479575 0.13112745 0.11397059 0.1190768  0.12377451 0.13562092\n",
      " 0.12908497 0.13459967 0.12806373 0.13031046 0.12724673 0.13521242\n",
      " 0.14522059 0.15257353 0.14848856 0.14338235 0.14562908 0.15236928\n",
      " 0.15400327 0.14971405 0.1621732  0.16319444 0.16584967 0.16033639\n",
      " 0.16033128 0.15864289 0.15638439 0.15395716]\n",
      "5 day output [[0.15151365]]\n",
      "6 day input [0.1380719  0.13071895 0.13071895 0.12867647 0.11846405 0.14644608\n",
      " 0.14808007 0.15910948 0.15992647 0.15788399 0.16441993 0.17892157\n",
      " 0.17933007 0.19260621 0.20812908 0.18974673 0.18055556 0.18239379\n",
      " 0.17708333 0.17810458 0.18055556 0.17810458 0.17851307 0.19607843\n",
      " 0.18913399 0.18954248 0.19403595 0.19444444 0.20200163 0.19771242\n",
      " 0.19934641 0.19873366 0.1997549  0.2128268  0.21568627 0.20445261\n",
      " 0.21772876 0.21098856 0.21425654 0.19750817 0.18811275 0.17851307\n",
      " 0.17381536 0.16033497 0.16564542 0.17116013 0.17422386 0.18035131\n",
      " 0.17401961 0.16278595 0.16973039 0.17810458 0.17034314 0.16830065\n",
      " 0.17279412 0.17544935 0.18382353 0.19138072 0.18913399 0.19097222\n",
      " 0.17238562 0.16830065 0.1693219  0.17177288 0.16156046 0.14971405\n",
      " 0.1503268  0.15196078 0.14726307 0.14501634 0.14603758 0.12479575\n",
      " 0.13112745 0.11397059 0.1190768  0.12377451 0.13562092 0.12908497\n",
      " 0.13459967 0.12806373 0.13031046 0.12724673 0.13521242 0.14522059\n",
      " 0.15257353 0.14848856 0.14338235 0.14562908 0.15236928 0.15400327\n",
      " 0.14971405 0.1621732  0.16319444 0.16584967 0.16033639 0.16033128\n",
      " 0.15864289 0.15638439 0.15395716 0.15151365]\n",
      "6 day output [[0.14913552]]\n",
      "7 day input [0.13071895 0.13071895 0.12867647 0.11846405 0.14644608 0.14808007\n",
      " 0.15910948 0.15992647 0.15788399 0.16441993 0.17892157 0.17933007\n",
      " 0.19260621 0.20812908 0.18974673 0.18055556 0.18239379 0.17708333\n",
      " 0.17810458 0.18055556 0.17810458 0.17851307 0.19607843 0.18913399\n",
      " 0.18954248 0.19403595 0.19444444 0.20200163 0.19771242 0.19934641\n",
      " 0.19873366 0.1997549  0.2128268  0.21568627 0.20445261 0.21772876\n",
      " 0.21098856 0.21425654 0.19750817 0.18811275 0.17851307 0.17381536\n",
      " 0.16033497 0.16564542 0.17116013 0.17422386 0.18035131 0.17401961\n",
      " 0.16278595 0.16973039 0.17810458 0.17034314 0.16830065 0.17279412\n",
      " 0.17544935 0.18382353 0.19138072 0.18913399 0.19097222 0.17238562\n",
      " 0.16830065 0.1693219  0.17177288 0.16156046 0.14971405 0.1503268\n",
      " 0.15196078 0.14726307 0.14501634 0.14603758 0.12479575 0.13112745\n",
      " 0.11397059 0.1190768  0.12377451 0.13562092 0.12908497 0.13459967\n",
      " 0.12806373 0.13031046 0.12724673 0.13521242 0.14522059 0.15257353\n",
      " 0.14848856 0.14338235 0.14562908 0.15236928 0.15400327 0.14971405\n",
      " 0.1621732  0.16319444 0.16584967 0.16033639 0.16033128 0.15864289\n",
      " 0.15638439 0.15395716 0.15151365 0.14913552]\n",
      "7 day output [[0.14687403]]\n",
      "8 day input [0.13071895 0.12867647 0.11846405 0.14644608 0.14808007 0.15910948\n",
      " 0.15992647 0.15788399 0.16441993 0.17892157 0.17933007 0.19260621\n",
      " 0.20812908 0.18974673 0.18055556 0.18239379 0.17708333 0.17810458\n",
      " 0.18055556 0.17810458 0.17851307 0.19607843 0.18913399 0.18954248\n",
      " 0.19403595 0.19444444 0.20200163 0.19771242 0.19934641 0.19873366\n",
      " 0.1997549  0.2128268  0.21568627 0.20445261 0.21772876 0.21098856\n",
      " 0.21425654 0.19750817 0.18811275 0.17851307 0.17381536 0.16033497\n",
      " 0.16564542 0.17116013 0.17422386 0.18035131 0.17401961 0.16278595\n",
      " 0.16973039 0.17810458 0.17034314 0.16830065 0.17279412 0.17544935\n",
      " 0.18382353 0.19138072 0.18913399 0.19097222 0.17238562 0.16830065\n",
      " 0.1693219  0.17177288 0.16156046 0.14971405 0.1503268  0.15196078\n",
      " 0.14726307 0.14501634 0.14603758 0.12479575 0.13112745 0.11397059\n",
      " 0.1190768  0.12377451 0.13562092 0.12908497 0.13459967 0.12806373\n",
      " 0.13031046 0.12724673 0.13521242 0.14522059 0.15257353 0.14848856\n",
      " 0.14338235 0.14562908 0.15236928 0.15400327 0.14971405 0.1621732\n",
      " 0.16319444 0.16584967 0.16033639 0.16033128 0.15864289 0.15638439\n",
      " 0.15395716 0.15151365 0.14913552 0.14687403]\n",
      "8 day output [[0.14475837]]\n",
      "9 day input [0.12867647 0.11846405 0.14644608 0.14808007 0.15910948 0.15992647\n",
      " 0.15788399 0.16441993 0.17892157 0.17933007 0.19260621 0.20812908\n",
      " 0.18974673 0.18055556 0.18239379 0.17708333 0.17810458 0.18055556\n",
      " 0.17810458 0.17851307 0.19607843 0.18913399 0.18954248 0.19403595\n",
      " 0.19444444 0.20200163 0.19771242 0.19934641 0.19873366 0.1997549\n",
      " 0.2128268  0.21568627 0.20445261 0.21772876 0.21098856 0.21425654\n",
      " 0.19750817 0.18811275 0.17851307 0.17381536 0.16033497 0.16564542\n",
      " 0.17116013 0.17422386 0.18035131 0.17401961 0.16278595 0.16973039\n",
      " 0.17810458 0.17034314 0.16830065 0.17279412 0.17544935 0.18382353\n",
      " 0.19138072 0.18913399 0.19097222 0.17238562 0.16830065 0.1693219\n",
      " 0.17177288 0.16156046 0.14971405 0.1503268  0.15196078 0.14726307\n",
      " 0.14501634 0.14603758 0.12479575 0.13112745 0.11397059 0.1190768\n",
      " 0.12377451 0.13562092 0.12908497 0.13459967 0.12806373 0.13031046\n",
      " 0.12724673 0.13521242 0.14522059 0.15257353 0.14848856 0.14338235\n",
      " 0.14562908 0.15236928 0.15400327 0.14971405 0.1621732  0.16319444\n",
      " 0.16584967 0.16033639 0.16033128 0.15864289 0.15638439 0.15395716\n",
      " 0.15151365 0.14913552 0.14687403 0.14475837]\n",
      "9 day output [[0.14280105]]\n",
      "10 day input [0.11846405 0.14644608 0.14808007 0.15910948 0.15992647 0.15788399\n",
      " 0.16441993 0.17892157 0.17933007 0.19260621 0.20812908 0.18974673\n",
      " 0.18055556 0.18239379 0.17708333 0.17810458 0.18055556 0.17810458\n",
      " 0.17851307 0.19607843 0.18913399 0.18954248 0.19403595 0.19444444\n",
      " 0.20200163 0.19771242 0.19934641 0.19873366 0.1997549  0.2128268\n",
      " 0.21568627 0.20445261 0.21772876 0.21098856 0.21425654 0.19750817\n",
      " 0.18811275 0.17851307 0.17381536 0.16033497 0.16564542 0.17116013\n",
      " 0.17422386 0.18035131 0.17401961 0.16278595 0.16973039 0.17810458\n",
      " 0.17034314 0.16830065 0.17279412 0.17544935 0.18382353 0.19138072\n",
      " 0.18913399 0.19097222 0.17238562 0.16830065 0.1693219  0.17177288\n",
      " 0.16156046 0.14971405 0.1503268  0.15196078 0.14726307 0.14501634\n",
      " 0.14603758 0.12479575 0.13112745 0.11397059 0.1190768  0.12377451\n",
      " 0.13562092 0.12908497 0.13459967 0.12806373 0.13031046 0.12724673\n",
      " 0.13521242 0.14522059 0.15257353 0.14848856 0.14338235 0.14562908\n",
      " 0.15236928 0.15400327 0.14971405 0.1621732  0.16319444 0.16584967\n",
      " 0.16033639 0.16033128 0.15864289 0.15638439 0.15395716 0.15151365\n",
      " 0.14913552 0.14687403 0.14475837 0.14280105]\n",
      "10 day output [[0.14100352]]\n",
      "11 day input [0.14644608 0.14808007 0.15910948 0.15992647 0.15788399 0.16441993\n",
      " 0.17892157 0.17933007 0.19260621 0.20812908 0.18974673 0.18055556\n",
      " 0.18239379 0.17708333 0.17810458 0.18055556 0.17810458 0.17851307\n",
      " 0.19607843 0.18913399 0.18954248 0.19403595 0.19444444 0.20200163\n",
      " 0.19771242 0.19934641 0.19873366 0.1997549  0.2128268  0.21568627\n",
      " 0.20445261 0.21772876 0.21098856 0.21425654 0.19750817 0.18811275\n",
      " 0.17851307 0.17381536 0.16033497 0.16564542 0.17116013 0.17422386\n",
      " 0.18035131 0.17401961 0.16278595 0.16973039 0.17810458 0.17034314\n",
      " 0.16830065 0.17279412 0.17544935 0.18382353 0.19138072 0.18913399\n",
      " 0.19097222 0.17238562 0.16830065 0.1693219  0.17177288 0.16156046\n",
      " 0.14971405 0.1503268  0.15196078 0.14726307 0.14501634 0.14603758\n",
      " 0.12479575 0.13112745 0.11397059 0.1190768  0.12377451 0.13562092\n",
      " 0.12908497 0.13459967 0.12806373 0.13031046 0.12724673 0.13521242\n",
      " 0.14522059 0.15257353 0.14848856 0.14338235 0.14562908 0.15236928\n",
      " 0.15400327 0.14971405 0.1621732  0.16319444 0.16584967 0.16033639\n",
      " 0.16033128 0.15864289 0.15638439 0.15395716 0.15151365 0.14913552\n",
      " 0.14687403 0.14475837 0.14280105 0.14100352]\n",
      "11 day output [[0.13936085]]\n",
      "12 day input [0.14808007 0.15910948 0.15992647 0.15788399 0.16441993 0.17892157\n",
      " 0.17933007 0.19260621 0.20812908 0.18974673 0.18055556 0.18239379\n",
      " 0.17708333 0.17810458 0.18055556 0.17810458 0.17851307 0.19607843\n",
      " 0.18913399 0.18954248 0.19403595 0.19444444 0.20200163 0.19771242\n",
      " 0.19934641 0.19873366 0.1997549  0.2128268  0.21568627 0.20445261\n",
      " 0.21772876 0.21098856 0.21425654 0.19750817 0.18811275 0.17851307\n",
      " 0.17381536 0.16033497 0.16564542 0.17116013 0.17422386 0.18035131\n",
      " 0.17401961 0.16278595 0.16973039 0.17810458 0.17034314 0.16830065\n",
      " 0.17279412 0.17544935 0.18382353 0.19138072 0.18913399 0.19097222\n",
      " 0.17238562 0.16830065 0.1693219  0.17177288 0.16156046 0.14971405\n",
      " 0.1503268  0.15196078 0.14726307 0.14501634 0.14603758 0.12479575\n",
      " 0.13112745 0.11397059 0.1190768  0.12377451 0.13562092 0.12908497\n",
      " 0.13459967 0.12806373 0.13031046 0.12724673 0.13521242 0.14522059\n",
      " 0.15257353 0.14848856 0.14338235 0.14562908 0.15236928 0.15400327\n",
      " 0.14971405 0.1621732  0.16319444 0.16584967 0.16033639 0.16033128\n",
      " 0.15864289 0.15638439 0.15395716 0.15151365 0.14913552 0.14687403\n",
      " 0.14475837 0.14280105 0.14100352 0.13936085]\n",
      "12 day output [[0.13786513]]\n",
      "13 day input [0.15910948 0.15992647 0.15788399 0.16441993 0.17892157 0.17933007\n",
      " 0.19260621 0.20812908 0.18974673 0.18055556 0.18239379 0.17708333\n",
      " 0.17810458 0.18055556 0.17810458 0.17851307 0.19607843 0.18913399\n",
      " 0.18954248 0.19403595 0.19444444 0.20200163 0.19771242 0.19934641\n",
      " 0.19873366 0.1997549  0.2128268  0.21568627 0.20445261 0.21772876\n",
      " 0.21098856 0.21425654 0.19750817 0.18811275 0.17851307 0.17381536\n",
      " 0.16033497 0.16564542 0.17116013 0.17422386 0.18035131 0.17401961\n",
      " 0.16278595 0.16973039 0.17810458 0.17034314 0.16830065 0.17279412\n",
      " 0.17544935 0.18382353 0.19138072 0.18913399 0.19097222 0.17238562\n",
      " 0.16830065 0.1693219  0.17177288 0.16156046 0.14971405 0.1503268\n",
      " 0.15196078 0.14726307 0.14501634 0.14603758 0.12479575 0.13112745\n",
      " 0.11397059 0.1190768  0.12377451 0.13562092 0.12908497 0.13459967\n",
      " 0.12806373 0.13031046 0.12724673 0.13521242 0.14522059 0.15257353\n",
      " 0.14848856 0.14338235 0.14562908 0.15236928 0.15400327 0.14971405\n",
      " 0.1621732  0.16319444 0.16584967 0.16033639 0.16033128 0.15864289\n",
      " 0.15638439 0.15395716 0.15151365 0.14913552 0.14687403 0.14475837\n",
      " 0.14280105 0.14100352 0.13936085 0.13786513]\n",
      "13 day output [[0.13650742]]\n",
      "14 day input [0.15992647 0.15788399 0.16441993 0.17892157 0.17933007 0.19260621\n",
      " 0.20812908 0.18974673 0.18055556 0.18239379 0.17708333 0.17810458\n",
      " 0.18055556 0.17810458 0.17851307 0.19607843 0.18913399 0.18954248\n",
      " 0.19403595 0.19444444 0.20200163 0.19771242 0.19934641 0.19873366\n",
      " 0.1997549  0.2128268  0.21568627 0.20445261 0.21772876 0.21098856\n",
      " 0.21425654 0.19750817 0.18811275 0.17851307 0.17381536 0.16033497\n",
      " 0.16564542 0.17116013 0.17422386 0.18035131 0.17401961 0.16278595\n",
      " 0.16973039 0.17810458 0.17034314 0.16830065 0.17279412 0.17544935\n",
      " 0.18382353 0.19138072 0.18913399 0.19097222 0.17238562 0.16830065\n",
      " 0.1693219  0.17177288 0.16156046 0.14971405 0.1503268  0.15196078\n",
      " 0.14726307 0.14501634 0.14603758 0.12479575 0.13112745 0.11397059\n",
      " 0.1190768  0.12377451 0.13562092 0.12908497 0.13459967 0.12806373\n",
      " 0.13031046 0.12724673 0.13521242 0.14522059 0.15257353 0.14848856\n",
      " 0.14338235 0.14562908 0.15236928 0.15400327 0.14971405 0.1621732\n",
      " 0.16319444 0.16584967 0.16033639 0.16033128 0.15864289 0.15638439\n",
      " 0.15395716 0.15151365 0.14913552 0.14687403 0.14475837 0.14280105\n",
      " 0.14100352 0.13936085 0.13786513 0.13650742]\n",
      "14 day output [[0.13527896]]\n",
      "15 day input [0.15788399 0.16441993 0.17892157 0.17933007 0.19260621 0.20812908\n",
      " 0.18974673 0.18055556 0.18239379 0.17708333 0.17810458 0.18055556\n",
      " 0.17810458 0.17851307 0.19607843 0.18913399 0.18954248 0.19403595\n",
      " 0.19444444 0.20200163 0.19771242 0.19934641 0.19873366 0.1997549\n",
      " 0.2128268  0.21568627 0.20445261 0.21772876 0.21098856 0.21425654\n",
      " 0.19750817 0.18811275 0.17851307 0.17381536 0.16033497 0.16564542\n",
      " 0.17116013 0.17422386 0.18035131 0.17401961 0.16278595 0.16973039\n",
      " 0.17810458 0.17034314 0.16830065 0.17279412 0.17544935 0.18382353\n",
      " 0.19138072 0.18913399 0.19097222 0.17238562 0.16830065 0.1693219\n",
      " 0.17177288 0.16156046 0.14971405 0.1503268  0.15196078 0.14726307\n",
      " 0.14501634 0.14603758 0.12479575 0.13112745 0.11397059 0.1190768\n",
      " 0.12377451 0.13562092 0.12908497 0.13459967 0.12806373 0.13031046\n",
      " 0.12724673 0.13521242 0.14522059 0.15257353 0.14848856 0.14338235\n",
      " 0.14562908 0.15236928 0.15400327 0.14971405 0.1621732  0.16319444\n",
      " 0.16584967 0.16033639 0.16033128 0.15864289 0.15638439 0.15395716\n",
      " 0.15151365 0.14913552 0.14687403 0.14475837 0.14280105 0.14100352\n",
      " 0.13936085 0.13786513 0.13650742 0.13527896]\n",
      "15 day output [[0.13417147]]\n",
      "16 day input [0.16441993 0.17892157 0.17933007 0.19260621 0.20812908 0.18974673\n",
      " 0.18055556 0.18239379 0.17708333 0.17810458 0.18055556 0.17810458\n",
      " 0.17851307 0.19607843 0.18913399 0.18954248 0.19403595 0.19444444\n",
      " 0.20200163 0.19771242 0.19934641 0.19873366 0.1997549  0.2128268\n",
      " 0.21568627 0.20445261 0.21772876 0.21098856 0.21425654 0.19750817\n",
      " 0.18811275 0.17851307 0.17381536 0.16033497 0.16564542 0.17116013\n",
      " 0.17422386 0.18035131 0.17401961 0.16278595 0.16973039 0.17810458\n",
      " 0.17034314 0.16830065 0.17279412 0.17544935 0.18382353 0.19138072\n",
      " 0.18913399 0.19097222 0.17238562 0.16830065 0.1693219  0.17177288\n",
      " 0.16156046 0.14971405 0.1503268  0.15196078 0.14726307 0.14501634\n",
      " 0.14603758 0.12479575 0.13112745 0.11397059 0.1190768  0.12377451\n",
      " 0.13562092 0.12908497 0.13459967 0.12806373 0.13031046 0.12724673\n",
      " 0.13521242 0.14522059 0.15257353 0.14848856 0.14338235 0.14562908\n",
      " 0.15236928 0.15400327 0.14971405 0.1621732  0.16319444 0.16584967\n",
      " 0.16033639 0.16033128 0.15864289 0.15638439 0.15395716 0.15151365\n",
      " 0.14913552 0.14687403 0.14475837 0.14280105 0.14100352 0.13936085\n",
      " 0.13786513 0.13650742 0.13527896 0.13417147]\n",
      "16 day output [[0.13317713]]\n",
      "17 day input [0.17892157 0.17933007 0.19260621 0.20812908 0.18974673 0.18055556\n",
      " 0.18239379 0.17708333 0.17810458 0.18055556 0.17810458 0.17851307\n",
      " 0.19607843 0.18913399 0.18954248 0.19403595 0.19444444 0.20200163\n",
      " 0.19771242 0.19934641 0.19873366 0.1997549  0.2128268  0.21568627\n",
      " 0.20445261 0.21772876 0.21098856 0.21425654 0.19750817 0.18811275\n",
      " 0.17851307 0.17381536 0.16033497 0.16564542 0.17116013 0.17422386\n",
      " 0.18035131 0.17401961 0.16278595 0.16973039 0.17810458 0.17034314\n",
      " 0.16830065 0.17279412 0.17544935 0.18382353 0.19138072 0.18913399\n",
      " 0.19097222 0.17238562 0.16830065 0.1693219  0.17177288 0.16156046\n",
      " 0.14971405 0.1503268  0.15196078 0.14726307 0.14501634 0.14603758\n",
      " 0.12479575 0.13112745 0.11397059 0.1190768  0.12377451 0.13562092\n",
      " 0.12908497 0.13459967 0.12806373 0.13031046 0.12724673 0.13521242\n",
      " 0.14522059 0.15257353 0.14848856 0.14338235 0.14562908 0.15236928\n",
      " 0.15400327 0.14971405 0.1621732  0.16319444 0.16584967 0.16033639\n",
      " 0.16033128 0.15864289 0.15638439 0.15395716 0.15151365 0.14913552\n",
      " 0.14687403 0.14475837 0.14280105 0.14100352 0.13936085 0.13786513\n",
      " 0.13650742 0.13527896 0.13417147 0.13317713]\n",
      "17 day output [[0.13228835]]\n",
      "18 day input [0.17933007 0.19260621 0.20812908 0.18974673 0.18055556 0.18239379\n",
      " 0.17708333 0.17810458 0.18055556 0.17810458 0.17851307 0.19607843\n",
      " 0.18913399 0.18954248 0.19403595 0.19444444 0.20200163 0.19771242\n",
      " 0.19934641 0.19873366 0.1997549  0.2128268  0.21568627 0.20445261\n",
      " 0.21772876 0.21098856 0.21425654 0.19750817 0.18811275 0.17851307\n",
      " 0.17381536 0.16033497 0.16564542 0.17116013 0.17422386 0.18035131\n",
      " 0.17401961 0.16278595 0.16973039 0.17810458 0.17034314 0.16830065\n",
      " 0.17279412 0.17544935 0.18382353 0.19138072 0.18913399 0.19097222\n",
      " 0.17238562 0.16830065 0.1693219  0.17177288 0.16156046 0.14971405\n",
      " 0.1503268  0.15196078 0.14726307 0.14501634 0.14603758 0.12479575\n",
      " 0.13112745 0.11397059 0.1190768  0.12377451 0.13562092 0.12908497\n",
      " 0.13459967 0.12806373 0.13031046 0.12724673 0.13521242 0.14522059\n",
      " 0.15257353 0.14848856 0.14338235 0.14562908 0.15236928 0.15400327\n",
      " 0.14971405 0.1621732  0.16319444 0.16584967 0.16033639 0.16033128\n",
      " 0.15864289 0.15638439 0.15395716 0.15151365 0.14913552 0.14687403\n",
      " 0.14475837 0.14280105 0.14100352 0.13936085 0.13786513 0.13650742\n",
      " 0.13527896 0.13417147 0.13317713 0.13228835]\n",
      "18 day output [[0.13149774]]\n",
      "19 day input [0.19260621 0.20812908 0.18974673 0.18055556 0.18239379 0.17708333\n",
      " 0.17810458 0.18055556 0.17810458 0.17851307 0.19607843 0.18913399\n",
      " 0.18954248 0.19403595 0.19444444 0.20200163 0.19771242 0.19934641\n",
      " 0.19873366 0.1997549  0.2128268  0.21568627 0.20445261 0.21772876\n",
      " 0.21098856 0.21425654 0.19750817 0.18811275 0.17851307 0.17381536\n",
      " 0.16033497 0.16564542 0.17116013 0.17422386 0.18035131 0.17401961\n",
      " 0.16278595 0.16973039 0.17810458 0.17034314 0.16830065 0.17279412\n",
      " 0.17544935 0.18382353 0.19138072 0.18913399 0.19097222 0.17238562\n",
      " 0.16830065 0.1693219  0.17177288 0.16156046 0.14971405 0.1503268\n",
      " 0.15196078 0.14726307 0.14501634 0.14603758 0.12479575 0.13112745\n",
      " 0.11397059 0.1190768  0.12377451 0.13562092 0.12908497 0.13459967\n",
      " 0.12806373 0.13031046 0.12724673 0.13521242 0.14522059 0.15257353\n",
      " 0.14848856 0.14338235 0.14562908 0.15236928 0.15400327 0.14971405\n",
      " 0.1621732  0.16319444 0.16584967 0.16033639 0.16033128 0.15864289\n",
      " 0.15638439 0.15395716 0.15151365 0.14913552 0.14687403 0.14475837\n",
      " 0.14280105 0.14100352 0.13936085 0.13786513 0.13650742 0.13527896\n",
      " 0.13417147 0.13317713 0.13228835 0.13149774]\n",
      "19 day output [[0.13079773]]\n",
      "20 day input [0.20812908 0.18974673 0.18055556 0.18239379 0.17708333 0.17810458\n",
      " 0.18055556 0.17810458 0.17851307 0.19607843 0.18913399 0.18954248\n",
      " 0.19403595 0.19444444 0.20200163 0.19771242 0.19934641 0.19873366\n",
      " 0.1997549  0.2128268  0.21568627 0.20445261 0.21772876 0.21098856\n",
      " 0.21425654 0.19750817 0.18811275 0.17851307 0.17381536 0.16033497\n",
      " 0.16564542 0.17116013 0.17422386 0.18035131 0.17401961 0.16278595\n",
      " 0.16973039 0.17810458 0.17034314 0.16830065 0.17279412 0.17544935\n",
      " 0.18382353 0.19138072 0.18913399 0.19097222 0.17238562 0.16830065\n",
      " 0.1693219  0.17177288 0.16156046 0.14971405 0.1503268  0.15196078\n",
      " 0.14726307 0.14501634 0.14603758 0.12479575 0.13112745 0.11397059\n",
      " 0.1190768  0.12377451 0.13562092 0.12908497 0.13459967 0.12806373\n",
      " 0.13031046 0.12724673 0.13521242 0.14522059 0.15257353 0.14848856\n",
      " 0.14338235 0.14562908 0.15236928 0.15400327 0.14971405 0.1621732\n",
      " 0.16319444 0.16584967 0.16033639 0.16033128 0.15864289 0.15638439\n",
      " 0.15395716 0.15151365 0.14913552 0.14687403 0.14475837 0.14280105\n",
      " 0.14100352 0.13936085 0.13786513 0.13650742 0.13527896 0.13417147\n",
      " 0.13317713 0.13228835 0.13149774 0.13079773]\n",
      "20 day output [[0.1301804]]\n",
      "21 day input [0.18974673 0.18055556 0.18239379 0.17708333 0.17810458 0.18055556\n",
      " 0.17810458 0.17851307 0.19607843 0.18913399 0.18954248 0.19403595\n",
      " 0.19444444 0.20200163 0.19771242 0.19934641 0.19873366 0.1997549\n",
      " 0.2128268  0.21568627 0.20445261 0.21772876 0.21098856 0.21425654\n",
      " 0.19750817 0.18811275 0.17851307 0.17381536 0.16033497 0.16564542\n",
      " 0.17116013 0.17422386 0.18035131 0.17401961 0.16278595 0.16973039\n",
      " 0.17810458 0.17034314 0.16830065 0.17279412 0.17544935 0.18382353\n",
      " 0.19138072 0.18913399 0.19097222 0.17238562 0.16830065 0.1693219\n",
      " 0.17177288 0.16156046 0.14971405 0.1503268  0.15196078 0.14726307\n",
      " 0.14501634 0.14603758 0.12479575 0.13112745 0.11397059 0.1190768\n",
      " 0.12377451 0.13562092 0.12908497 0.13459967 0.12806373 0.13031046\n",
      " 0.12724673 0.13521242 0.14522059 0.15257353 0.14848856 0.14338235\n",
      " 0.14562908 0.15236928 0.15400327 0.14971405 0.1621732  0.16319444\n",
      " 0.16584967 0.16033639 0.16033128 0.15864289 0.15638439 0.15395716\n",
      " 0.15151365 0.14913552 0.14687403 0.14475837 0.14280105 0.14100352\n",
      " 0.13936085 0.13786513 0.13650742 0.13527896 0.13417147 0.13317713\n",
      " 0.13228835 0.13149774 0.13079773 0.1301804 ]\n",
      "21 day output [[0.12963787]]\n",
      "22 day input [0.18055556 0.18239379 0.17708333 0.17810458 0.18055556 0.17810458\n",
      " 0.17851307 0.19607843 0.18913399 0.18954248 0.19403595 0.19444444\n",
      " 0.20200163 0.19771242 0.19934641 0.19873366 0.1997549  0.2128268\n",
      " 0.21568627 0.20445261 0.21772876 0.21098856 0.21425654 0.19750817\n",
      " 0.18811275 0.17851307 0.17381536 0.16033497 0.16564542 0.17116013\n",
      " 0.17422386 0.18035131 0.17401961 0.16278595 0.16973039 0.17810458\n",
      " 0.17034314 0.16830065 0.17279412 0.17544935 0.18382353 0.19138072\n",
      " 0.18913399 0.19097222 0.17238562 0.16830065 0.1693219  0.17177288\n",
      " 0.16156046 0.14971405 0.1503268  0.15196078 0.14726307 0.14501634\n",
      " 0.14603758 0.12479575 0.13112745 0.11397059 0.1190768  0.12377451\n",
      " 0.13562092 0.12908497 0.13459967 0.12806373 0.13031046 0.12724673\n",
      " 0.13521242 0.14522059 0.15257353 0.14848856 0.14338235 0.14562908\n",
      " 0.15236928 0.15400327 0.14971405 0.1621732  0.16319444 0.16584967\n",
      " 0.16033639 0.16033128 0.15864289 0.15638439 0.15395716 0.15151365\n",
      " 0.14913552 0.14687403 0.14475837 0.14280105 0.14100352 0.13936085\n",
      " 0.13786513 0.13650742 0.13527896 0.13417147 0.13317713 0.13228835\n",
      " 0.13149774 0.13079773 0.1301804  0.12963787]\n",
      "22 day output [[0.12916183]]\n",
      "23 day input [0.18239379 0.17708333 0.17810458 0.18055556 0.17810458 0.17851307\n",
      " 0.19607843 0.18913399 0.18954248 0.19403595 0.19444444 0.20200163\n",
      " 0.19771242 0.19934641 0.19873366 0.1997549  0.2128268  0.21568627\n",
      " 0.20445261 0.21772876 0.21098856 0.21425654 0.19750817 0.18811275\n",
      " 0.17851307 0.17381536 0.16033497 0.16564542 0.17116013 0.17422386\n",
      " 0.18035131 0.17401961 0.16278595 0.16973039 0.17810458 0.17034314\n",
      " 0.16830065 0.17279412 0.17544935 0.18382353 0.19138072 0.18913399\n",
      " 0.19097222 0.17238562 0.16830065 0.1693219  0.17177288 0.16156046\n",
      " 0.14971405 0.1503268  0.15196078 0.14726307 0.14501634 0.14603758\n",
      " 0.12479575 0.13112745 0.11397059 0.1190768  0.12377451 0.13562092\n",
      " 0.12908497 0.13459967 0.12806373 0.13031046 0.12724673 0.13521242\n",
      " 0.14522059 0.15257353 0.14848856 0.14338235 0.14562908 0.15236928\n",
      " 0.15400327 0.14971405 0.1621732  0.16319444 0.16584967 0.16033639\n",
      " 0.16033128 0.15864289 0.15638439 0.15395716 0.15151365 0.14913552\n",
      " 0.14687403 0.14475837 0.14280105 0.14100352 0.13936085 0.13786513\n",
      " 0.13650742 0.13527896 0.13417147 0.13317713 0.13228835 0.13149774\n",
      " 0.13079773 0.1301804  0.12963787 0.12916183]\n",
      "23 day output [[0.12874411]]\n",
      "24 day input [0.17708333 0.17810458 0.18055556 0.17810458 0.17851307 0.19607843\n",
      " 0.18913399 0.18954248 0.19403595 0.19444444 0.20200163 0.19771242\n",
      " 0.19934641 0.19873366 0.1997549  0.2128268  0.21568627 0.20445261\n",
      " 0.21772876 0.21098856 0.21425654 0.19750817 0.18811275 0.17851307\n",
      " 0.17381536 0.16033497 0.16564542 0.17116013 0.17422386 0.18035131\n",
      " 0.17401961 0.16278595 0.16973039 0.17810458 0.17034314 0.16830065\n",
      " 0.17279412 0.17544935 0.18382353 0.19138072 0.18913399 0.19097222\n",
      " 0.17238562 0.16830065 0.1693219  0.17177288 0.16156046 0.14971405\n",
      " 0.1503268  0.15196078 0.14726307 0.14501634 0.14603758 0.12479575\n",
      " 0.13112745 0.11397059 0.1190768  0.12377451 0.13562092 0.12908497\n",
      " 0.13459967 0.12806373 0.13031046 0.12724673 0.13521242 0.14522059\n",
      " 0.15257353 0.14848856 0.14338235 0.14562908 0.15236928 0.15400327\n",
      " 0.14971405 0.1621732  0.16319444 0.16584967 0.16033639 0.16033128\n",
      " 0.15864289 0.15638439 0.15395716 0.15151365 0.14913552 0.14687403\n",
      " 0.14475837 0.14280105 0.14100352 0.13936085 0.13786513 0.13650742\n",
      " 0.13527896 0.13417147 0.13317713 0.13228835 0.13149774 0.13079773\n",
      " 0.1301804  0.12963787 0.12916183 0.12874411]\n",
      "24 day output [[0.12837653]]\n",
      "25 day input [0.17810458 0.18055556 0.17810458 0.17851307 0.19607843 0.18913399\n",
      " 0.18954248 0.19403595 0.19444444 0.20200163 0.19771242 0.19934641\n",
      " 0.19873366 0.1997549  0.2128268  0.21568627 0.20445261 0.21772876\n",
      " 0.21098856 0.21425654 0.19750817 0.18811275 0.17851307 0.17381536\n",
      " 0.16033497 0.16564542 0.17116013 0.17422386 0.18035131 0.17401961\n",
      " 0.16278595 0.16973039 0.17810458 0.17034314 0.16830065 0.17279412\n",
      " 0.17544935 0.18382353 0.19138072 0.18913399 0.19097222 0.17238562\n",
      " 0.16830065 0.1693219  0.17177288 0.16156046 0.14971405 0.1503268\n",
      " 0.15196078 0.14726307 0.14501634 0.14603758 0.12479575 0.13112745\n",
      " 0.11397059 0.1190768  0.12377451 0.13562092 0.12908497 0.13459967\n",
      " 0.12806373 0.13031046 0.12724673 0.13521242 0.14522059 0.15257353\n",
      " 0.14848856 0.14338235 0.14562908 0.15236928 0.15400327 0.14971405\n",
      " 0.1621732  0.16319444 0.16584967 0.16033639 0.16033128 0.15864289\n",
      " 0.15638439 0.15395716 0.15151365 0.14913552 0.14687403 0.14475837\n",
      " 0.14280105 0.14100352 0.13936085 0.13786513 0.13650742 0.13527896\n",
      " 0.13417147 0.13317713 0.13228835 0.13149774 0.13079773 0.1301804\n",
      " 0.12963787 0.12916183 0.12874411 0.12837653]\n",
      "25 day output [[0.12805127]]\n",
      "26 day input [0.18055556 0.17810458 0.17851307 0.19607843 0.18913399 0.18954248\n",
      " 0.19403595 0.19444444 0.20200163 0.19771242 0.19934641 0.19873366\n",
      " 0.1997549  0.2128268  0.21568627 0.20445261 0.21772876 0.21098856\n",
      " 0.21425654 0.19750817 0.18811275 0.17851307 0.17381536 0.16033497\n",
      " 0.16564542 0.17116013 0.17422386 0.18035131 0.17401961 0.16278595\n",
      " 0.16973039 0.17810458 0.17034314 0.16830065 0.17279412 0.17544935\n",
      " 0.18382353 0.19138072 0.18913399 0.19097222 0.17238562 0.16830065\n",
      " 0.1693219  0.17177288 0.16156046 0.14971405 0.1503268  0.15196078\n",
      " 0.14726307 0.14501634 0.14603758 0.12479575 0.13112745 0.11397059\n",
      " 0.1190768  0.12377451 0.13562092 0.12908497 0.13459967 0.12806373\n",
      " 0.13031046 0.12724673 0.13521242 0.14522059 0.15257353 0.14848856\n",
      " 0.14338235 0.14562908 0.15236928 0.15400327 0.14971405 0.1621732\n",
      " 0.16319444 0.16584967 0.16033639 0.16033128 0.15864289 0.15638439\n",
      " 0.15395716 0.15151365 0.14913552 0.14687403 0.14475837 0.14280105\n",
      " 0.14100352 0.13936085 0.13786513 0.13650742 0.13527896 0.13417147\n",
      " 0.13317713 0.13228835 0.13149774 0.13079773 0.1301804  0.12963787\n",
      " 0.12916183 0.12874411 0.12837653 0.12805127]\n",
      "26 day output [[0.12776081]]\n",
      "27 day input [0.17810458 0.17851307 0.19607843 0.18913399 0.18954248 0.19403595\n",
      " 0.19444444 0.20200163 0.19771242 0.19934641 0.19873366 0.1997549\n",
      " 0.2128268  0.21568627 0.20445261 0.21772876 0.21098856 0.21425654\n",
      " 0.19750817 0.18811275 0.17851307 0.17381536 0.16033497 0.16564542\n",
      " 0.17116013 0.17422386 0.18035131 0.17401961 0.16278595 0.16973039\n",
      " 0.17810458 0.17034314 0.16830065 0.17279412 0.17544935 0.18382353\n",
      " 0.19138072 0.18913399 0.19097222 0.17238562 0.16830065 0.1693219\n",
      " 0.17177288 0.16156046 0.14971405 0.1503268  0.15196078 0.14726307\n",
      " 0.14501634 0.14603758 0.12479575 0.13112745 0.11397059 0.1190768\n",
      " 0.12377451 0.13562092 0.12908497 0.13459967 0.12806373 0.13031046\n",
      " 0.12724673 0.13521242 0.14522059 0.15257353 0.14848856 0.14338235\n",
      " 0.14562908 0.15236928 0.15400327 0.14971405 0.1621732  0.16319444\n",
      " 0.16584967 0.16033639 0.16033128 0.15864289 0.15638439 0.15395716\n",
      " 0.15151365 0.14913552 0.14687403 0.14475837 0.14280105 0.14100352\n",
      " 0.13936085 0.13786513 0.13650742 0.13527896 0.13417147 0.13317713\n",
      " 0.13228835 0.13149774 0.13079773 0.1301804  0.12963787 0.12916183\n",
      " 0.12874411 0.12837653 0.12805127 0.12776081]\n",
      "27 day output [[0.12749837]]\n",
      "28 day input [0.17851307 0.19607843 0.18913399 0.18954248 0.19403595 0.19444444\n",
      " 0.20200163 0.19771242 0.19934641 0.19873366 0.1997549  0.2128268\n",
      " 0.21568627 0.20445261 0.21772876 0.21098856 0.21425654 0.19750817\n",
      " 0.18811275 0.17851307 0.17381536 0.16033497 0.16564542 0.17116013\n",
      " 0.17422386 0.18035131 0.17401961 0.16278595 0.16973039 0.17810458\n",
      " 0.17034314 0.16830065 0.17279412 0.17544935 0.18382353 0.19138072\n",
      " 0.18913399 0.19097222 0.17238562 0.16830065 0.1693219  0.17177288\n",
      " 0.16156046 0.14971405 0.1503268  0.15196078 0.14726307 0.14501634\n",
      " 0.14603758 0.12479575 0.13112745 0.11397059 0.1190768  0.12377451\n",
      " 0.13562092 0.12908497 0.13459967 0.12806373 0.13031046 0.12724673\n",
      " 0.13521242 0.14522059 0.15257353 0.14848856 0.14338235 0.14562908\n",
      " 0.15236928 0.15400327 0.14971405 0.1621732  0.16319444 0.16584967\n",
      " 0.16033639 0.16033128 0.15864289 0.15638439 0.15395716 0.15151365\n",
      " 0.14913552 0.14687403 0.14475837 0.14280105 0.14100352 0.13936085\n",
      " 0.13786513 0.13650742 0.13527896 0.13417147 0.13317713 0.13228835\n",
      " 0.13149774 0.13079773 0.1301804  0.12963787 0.12916183 0.12874411\n",
      " 0.12837653 0.12805127 0.12776081 0.12749837]\n",
      "28 day output [[0.12725759]]\n",
      "29 day input [0.19607843 0.18913399 0.18954248 0.19403595 0.19444444 0.20200163\n",
      " 0.19771242 0.19934641 0.19873366 0.1997549  0.2128268  0.21568627\n",
      " 0.20445261 0.21772876 0.21098856 0.21425654 0.19750817 0.18811275\n",
      " 0.17851307 0.17381536 0.16033497 0.16564542 0.17116013 0.17422386\n",
      " 0.18035131 0.17401961 0.16278595 0.16973039 0.17810458 0.17034314\n",
      " 0.16830065 0.17279412 0.17544935 0.18382353 0.19138072 0.18913399\n",
      " 0.19097222 0.17238562 0.16830065 0.1693219  0.17177288 0.16156046\n",
      " 0.14971405 0.1503268  0.15196078 0.14726307 0.14501634 0.14603758\n",
      " 0.12479575 0.13112745 0.11397059 0.1190768  0.12377451 0.13562092\n",
      " 0.12908497 0.13459967 0.12806373 0.13031046 0.12724673 0.13521242\n",
      " 0.14522059 0.15257353 0.14848856 0.14338235 0.14562908 0.15236928\n",
      " 0.15400327 0.14971405 0.1621732  0.16319444 0.16584967 0.16033639\n",
      " 0.16033128 0.15864289 0.15638439 0.15395716 0.15151365 0.14913552\n",
      " 0.14687403 0.14475837 0.14280105 0.14100352 0.13936085 0.13786513\n",
      " 0.13650742 0.13527896 0.13417147 0.13317713 0.13228835 0.13149774\n",
      " 0.13079773 0.1301804  0.12963787 0.12916183 0.12874411 0.12837653\n",
      " 0.12805127 0.12776081 0.12749837 0.12725759]\n",
      "29 day output [[0.12703305]]\n",
      "[[0.16033639013767242], [0.16033127903938293], [0.15864288806915283], [0.1563843935728073], [0.15395715832710266], [0.15151365101337433], [0.1491355150938034], [0.14687402546405792], [0.14475837349891663], [0.14280104637145996], [0.14100351929664612], [0.13936084508895874], [0.1378651261329651], [0.13650742173194885], [0.13527895510196686], [0.1341714709997177], [0.13317713141441345], [0.1322883516550064], [0.13149774074554443], [0.13079772889614105], [0.13018040359020233], [0.12963786721229553], [0.12916183471679688], [0.12874411046504974], [0.1283765286207199], [0.1280512660741806], [0.12776081264019012], [0.12749837338924408], [0.1272575855255127], [0.1270330548286438]]\n"
     ]
    }
   ],
   "metadata": {}
  },
  {
   "cell_type": "code",
   "execution_count": 37,
   "source": [
    "day_new=np.arange(1,101)\r\n",
    "day_pred=np.arange(101,131)"
   ],
   "outputs": [],
   "metadata": {}
  },
  {
   "cell_type": "code",
   "execution_count": 38,
   "source": [
    "import matplotlib.pyplot as plt"
   ],
   "outputs": [],
   "metadata": {}
  },
  {
   "cell_type": "code",
   "execution_count": 39,
   "source": [
    "len(df1)"
   ],
   "outputs": [
    {
     "output_type": "execute_result",
     "data": {
      "text/plain": [
       "2035"
      ]
     },
     "metadata": {},
     "execution_count": 39
    }
   ],
   "metadata": {}
  },
  {
   "cell_type": "code",
   "execution_count": 41,
   "source": [
    "plt.plot(day_new,scaler.inverse_transform(df1[1935:]))\r\n",
    "plt.plot(day_pred,scaler.inverse_transform(lst_output))"
   ],
   "outputs": [
    {
     "output_type": "execute_result",
     "data": {
      "text/plain": [
       "[<matplotlib.lines.Line2D at 0x1fbbfcbaa60>]"
      ]
     },
     "metadata": {},
     "execution_count": 41
    },
    {
     "output_type": "display_data",
     "data": {
      "image/png": "[encoded data removed]",
      "text/plain": [
       "<Figure size 432x288 with 1 Axes>"
      ]
     },
     "metadata": {
      "needs_background": "light"
     }
    }
   ],
   "metadata": {}
  },
  {
   "cell_type": "code",
   "execution_count": 43,
   "source": [
    "df3=df1.tolist()\r\n",
    "df3.extend(lst_output)\r\n",
    "plt.plot(df3[1800:])"
   ],
   "outputs": [
    {
     "output_type": "execute_result",
     "data": {
      "text/plain": [
       "[<matplotlib.lines.Line2D at 0x1fbc0f4b550>]"
      ]
     },
     "metadata": {},
     "execution_count": 43
    },
    {
     "output_type": "display_data",
     "data": {
      "image/png": "[encoded data removed]",
      "text/plain": [
       "<Figure size 432x288 with 1 Axes>"
      ]
     },
     "metadata": {
      "needs_background": "light"
     }
    }
   ],
   "metadata": {}
  },
  {
   "cell_type": "code",
   "execution_count": 44,
   "source": [
    "df3=scaler.inverse_transform(df3).tolist()"
   ],
   "outputs": [],
   "metadata": {}
  },
  {
   "cell_type": "code",
   "execution_count": 45,
   "source": [
    "plt.plot(df3)"
   ],
   "outputs": [
    {
     "output_type": "execute_result",
     "data": {
      "text/plain": [
       "[<matplotlib.lines.Line2D at 0x1fbc0f440a0>]"
      ]
     },
     "metadata": {},
     "execution_count": 45
    },
    {
     "output_type": "display_data",
     "data": {
      "image/png": "[encoded data removed]",
      "text/plain": [
       "<Figure size 432x288 with 1 Axes>"
      ]
     },
     "metadata": {
      "needs_background": "light"
     }
    }
   ],
   "metadata": {}
  },
  {
   "cell_type": "code",
   "execution_count": null,
   "source": [],
   "outputs": [],
   "metadata": {}
  },
  {
   "cell_type": "code",
   "execution_count": null,
   "source": [],
   "outputs": [],
   "metadata": {}
  }
 ],
 "metadata": {
  "orig_nbformat": 4,
  "language_info": {
   "name": "python",
   "version": "3.8.8",
   "mimetype": "text/x-python",
   "codemirror_mode": {
    "name": "ipython",
    "version": 3
   },
   "pygments_lexer": "ipython3",
   "nbconvert_exporter": "python",
   "file_extension": ".py"
  },
  "kernelspec": {
   "name": "python3",
   "display_name": "Python 3.8.8 64-bit ('base': conda)"
  },
  "interpreter": {
   "hash": "8296296fe190460b9dd5ab92effe24d072d2491b1f080ef7c369ef2e131868df"
  }
 },
 "nbformat": 4,
 "nbformat_minor": 2
}